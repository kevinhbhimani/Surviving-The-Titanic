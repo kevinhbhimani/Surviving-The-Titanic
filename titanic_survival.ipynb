{
 "cells": [
  {
   "cell_type": "markdown",
   "metadata": {},
   "source": [
    "A Machine Learning algorithym to predict survival of passengers on Titanic\n",
    "Kevin H. Bhimani"
   ]
  },
  {
   "cell_type": "code",
   "execution_count": 27,
   "metadata": {},
   "outputs": [],
   "source": [
    "import pandas as pd\n",
    "import numpy as np\n",
    "import matplotlib.pyplot as plt\n",
    "from sklearn.preprocessing import LabelEncoder\n",
    "from sklearn.linear_model import LogisticRegression\n",
    "from sklearn import svm\n",
    "from sklearn.tree import DecisionTreeClassifier\n",
    "from sklearn.naive_bayes import GaussianNB\n",
    "\n",
    "\n",
    "data = pd.read_csv(\"train.csv\")\n",
    "\n",
    "#data.sample(5)\n",
    "#data.info()"
   ]
  },
  {
   "cell_type": "code",
   "execution_count": 28,
   "metadata": {},
   "outputs": [
    {
     "name": "stderr",
     "output_type": "stream",
     "text": [
      "C:\\Users\\kevin\\Anaconda3\\lib\\site-packages\\ipykernel_launcher.py:3: SettingWithCopyWarning: \n",
      "A value is trying to be set on a copy of a slice from a DataFrame\n",
      "\n",
      "See the caveats in the documentation: http://pandas.pydata.org/pandas-docs/stable/indexing.html#indexing-view-versus-copy\n",
      "  This is separate from the ipykernel package so we can avoid doing imports until\n"
     ]
    },
    {
     "data": {
      "text/html": [
       "<div>\n",
       "<style scoped>\n",
       "    .dataframe tbody tr th:only-of-type {\n",
       "        vertical-align: middle;\n",
       "    }\n",
       "\n",
       "    .dataframe tbody tr th {\n",
       "        vertical-align: top;\n",
       "    }\n",
       "\n",
       "    .dataframe thead th {\n",
       "        text-align: right;\n",
       "    }\n",
       "</style>\n",
       "<table border=\"1\" class=\"dataframe\">\n",
       "  <thead>\n",
       "    <tr style=\"text-align: right;\">\n",
       "      <th></th>\n",
       "      <th>Survived</th>\n",
       "      <th>Pclass</th>\n",
       "      <th>Sex</th>\n",
       "      <th>Age</th>\n",
       "      <th>Parch</th>\n",
       "      <th>Ticket</th>\n",
       "      <th>Fare</th>\n",
       "      <th>Embarked</th>\n",
       "    </tr>\n",
       "  </thead>\n",
       "  <tbody>\n",
       "    <tr>\n",
       "      <th>0</th>\n",
       "      <td>0</td>\n",
       "      <td>3</td>\n",
       "      <td>1.0</td>\n",
       "      <td>22.0</td>\n",
       "      <td>0</td>\n",
       "      <td>A/5 21171</td>\n",
       "      <td>7.2500</td>\n",
       "      <td>S</td>\n",
       "    </tr>\n",
       "    <tr>\n",
       "      <th>1</th>\n",
       "      <td>1</td>\n",
       "      <td>1</td>\n",
       "      <td>2.0</td>\n",
       "      <td>38.0</td>\n",
       "      <td>0</td>\n",
       "      <td>PC 17599</td>\n",
       "      <td>71.2833</td>\n",
       "      <td>C</td>\n",
       "    </tr>\n",
       "    <tr>\n",
       "      <th>2</th>\n",
       "      <td>1</td>\n",
       "      <td>3</td>\n",
       "      <td>2.0</td>\n",
       "      <td>26.0</td>\n",
       "      <td>0</td>\n",
       "      <td>STON/O2. 3101282</td>\n",
       "      <td>7.9250</td>\n",
       "      <td>S</td>\n",
       "    </tr>\n",
       "    <tr>\n",
       "      <th>3</th>\n",
       "      <td>1</td>\n",
       "      <td>1</td>\n",
       "      <td>2.0</td>\n",
       "      <td>35.0</td>\n",
       "      <td>0</td>\n",
       "      <td>113803</td>\n",
       "      <td>53.1000</td>\n",
       "      <td>S</td>\n",
       "    </tr>\n",
       "    <tr>\n",
       "      <th>4</th>\n",
       "      <td>0</td>\n",
       "      <td>3</td>\n",
       "      <td>1.0</td>\n",
       "      <td>35.0</td>\n",
       "      <td>0</td>\n",
       "      <td>373450</td>\n",
       "      <td>8.0500</td>\n",
       "      <td>S</td>\n",
       "    </tr>\n",
       "  </tbody>\n",
       "</table>\n",
       "</div>"
      ],
      "text/plain": [
       "   Survived  Pclass  Sex   Age  Parch            Ticket     Fare Embarked\n",
       "0         0       3  1.0  22.0      0         A/5 21171   7.2500        S\n",
       "1         1       1  2.0  38.0      0          PC 17599  71.2833        C\n",
       "2         1       3  2.0  26.0      0  STON/O2. 3101282   7.9250        S\n",
       "3         1       1  2.0  35.0      0            113803  53.1000        S\n",
       "4         0       3  1.0  35.0      0            373450   8.0500        S"
      ]
     },
     "execution_count": 28,
     "metadata": {},
     "output_type": "execute_result"
    }
   ],
   "source": [
    "reg_data = data[[\"Survived\",\"Pclass\",\"Sex\",\"Age\",\"Parch\",\"Ticket\",\"Fare\",\"Embarked\"]]\n",
    "\n",
    "reg_data.dropna(axis=0, how ='any', thresh=None, subset=None, inplace=True)\n",
    "\n",
    "reg_data = reg_data.replace(to_replace = \"male\", value =\"1.0\")\n",
    "reg_data = reg_data.replace(to_replace = \"female\", value =\"2.0\")\n",
    "reg_data.head(5)"
   ]
  },
  {
   "cell_type": "code",
   "execution_count": 29,
   "metadata": {},
   "outputs": [],
   "source": [
    "survived = np.array(reg_data[\"Survived\"][:],dtype=float)\n",
    "pClass = np.array(reg_data[\"Pclass\"][:],dtype=float)\n",
    "sex = np.array(reg_data[\"Sex\"][:],dtype=float)\n",
    "age = np.array(reg_data[\"Age\"][:],dtype=float)\n",
    "parch = np.array(reg_data[\"Parch\"][:],dtype=float)\n",
    "ticket = np.array(reg_data[\"Ticket\"][:])\n",
    "fare = np.array(reg_data[\"Fare\"][:],dtype=float)\n",
    "embarked = np.array(reg_data[\"Embarked\"][:])\n",
    "\n",
    "label_encoder = LabelEncoder()\n",
    "#sex = label_encoder.fit_transform(sex)\n",
    "ticket = label_encoder.fit_transform(ticket)\n",
    "embarked = label_encoder.fit_transform(embarked)\n",
    "\n",
    "x = np.asarray([pClass,sex,age,parch,ticket,fare,embarked]).transpose()\n",
    "    \n",
    "#print(x.shape)\n",
    "\n",
    "y = np.ravel(np.asarray([survived]).transpose())\n",
    "#print(y.shape)"
   ]
  },
  {
   "cell_type": "code",
   "execution_count": 30,
   "metadata": {},
   "outputs": [
    {
     "name": "stdout",
     "output_type": "stream",
     "text": [
      "[[-1.10760875e+00  2.45525846e+00 -3.55165298e-02 -1.46166585e-01\n",
      "  -5.38030342e-04  1.34186715e-03 -2.04441031e-01]]\n",
      "{'priors': None, 'var_smoothing': 1e-09}\n"
     ]
    },
    {
     "name": "stderr",
     "output_type": "stream",
     "text": [
      "C:\\Users\\kevin\\Anaconda3\\lib\\site-packages\\sklearn\\linear_model\\logistic.py:432: FutureWarning: Default solver will be changed to 'lbfgs' in 0.22. Specify a solver to silence this warning.\n",
      "  FutureWarning)\n"
     ]
    }
   ],
   "source": [
    "clf = LogisticRegression()\n",
    "clf.fit(x,y)\n",
    "betas = clf.coef_\n",
    "print(betas)\n",
    "\n",
    "gaussian = GaussianNB()\n",
    "gaussian.fit(x, y)\n",
    "#beta1 = decision_tree.class_weight()\n",
    "print(gaussian.get_params())\n",
    "\n",
    "\n",
    "#random_forest = RandomForestClassifier(n_estimators=100)\n",
    "#random_forest.fit(x, y)\n",
    "#Y_prediction = random_forest.predict(x)\n",
    "\n",
    "#print(random_forest.feature_importances_)"
   ]
  },
  {
   "cell_type": "code",
   "execution_count": 31,
   "metadata": {},
   "outputs": [],
   "source": [
    "test_data = pd.read_csv(\"test.csv\")\n",
    "test_data = test_data[[\"Pclass\",\"Sex\",\"Age\",\"Parch\",\"Ticket\",\"Fare\",\"Embarked\"]]\n",
    "test_data.dropna(axis=0, how ='any', thresh=None, subset=None, inplace=True)\n",
    "test_data = test_data.replace(to_replace = \"male\", value =\"1.0\")\n",
    "test_data = test_data.replace(to_replace = \"female\", value =\"2.0\")"
   ]
  },
  {
   "cell_type": "code",
   "execution_count": 32,
   "metadata": {},
   "outputs": [
    {
     "data": {
      "text/plain": [
       "(331, 7)"
      ]
     },
     "execution_count": 32,
     "metadata": {},
     "output_type": "execute_result"
    }
   ],
   "source": [
    "test_pClass = np.array(test_data[\"Pclass\"][:],dtype=float)\n",
    "test_sex = np.array(test_data[\"Sex\"][:],dtype=float)\n",
    "test_age = np.array(test_data[\"Age\"][:],dtype=float)\n",
    "test_parch = np.array(test_data[\"Parch\"][:],dtype=float)\n",
    "test_ticket = np.array(test_data[\"Ticket\"][:])\n",
    "test_fare = np.array(test_data[\"Fare\"][:],dtype=float)\n",
    "test_embarked = np.array(test_data[\"Embarked\"][:])\n",
    "\n",
    "\n",
    "label_encoder = LabelEncoder()\n",
    "#test_sex = label_encoder.fit_transform(test_sex)\n",
    "test_ticket = label_encoder.fit_transform(test_ticket)\n",
    "test_embarked = label_encoder.fit_transform(test_embarked)\n",
    "\n",
    "test_x = np.asarray([test_pClass,test_sex,test_age,test_parch,test_ticket,test_fare,test_embarked]).transpose()\n",
    "\n",
    "test_x.shape"
   ]
  },
  {
   "cell_type": "code",
   "execution_count": 55,
   "metadata": {},
   "outputs": [],
   "source": [
    "fate2 = gaussian.predict(test_x)\n",
    "dot_prod = np.dot(test_x,betas.transpose())"
   ]
  },
  {
   "cell_type": "code",
   "execution_count": 56,
   "metadata": {},
   "outputs": [],
   "source": [
    "fate = 1/(1+np.exp(-dot_prod))"
   ]
  },
  {
   "cell_type": "code",
   "execution_count": 57,
   "metadata": {},
   "outputs": [],
   "source": [
    "dead = 0\n",
    "alive = 0\n",
    "for i in range(0,len(fate)):\n",
    "    if (fate[i]>= 0.5):\n",
    "        alive = alive+1\n",
    "    else:\n",
    "        dead = dead+1"
   ]
  },
  {
   "cell_type": "code",
   "execution_count": 58,
   "metadata": {},
   "outputs": [],
   "source": [
    "dead2 = 0\n",
    "alive2 = 0\n",
    "for i in range(0,len(fate2)):\n",
    "    if (fate2[i]>= 1):\n",
    "        alive2 = alive2+1\n",
    "    else:\n",
    "        dead2 = dead2+1\n",
    "        "
   ]
  },
  {
   "cell_type": "code",
   "execution_count": 59,
   "metadata": {},
   "outputs": [
    {
     "name": "stdout",
     "output_type": "stream",
     "text": [
      "Total number of people who survived: 145\n",
      "Total number of people who lost their lives: 186\n"
     ]
    }
   ],
   "source": [
    "print(\"Total number of people who survived:\", alive2)\n",
    "print(\"Total number of people who lost their lives:\", dead2)"
   ]
  },
  {
   "cell_type": "code",
   "execution_count": null,
   "metadata": {},
   "outputs": [],
   "source": []
  }
 ],
 "metadata": {
  "kernelspec": {
   "display_name": "Python 3",
   "language": "python",
   "name": "python3"
  },
  "language_info": {
   "codemirror_mode": {
    "name": "ipython",
    "version": 3
   },
   "file_extension": ".py",
   "mimetype": "text/x-python",
   "name": "python",
   "nbconvert_exporter": "python",
   "pygments_lexer": "ipython3",
   "version": "3.7.3"
  }
 },
 "nbformat": 4,
 "nbformat_minor": 2
}
