{
 "cells": [
  {
   "cell_type": "code",
   "execution_count": 64,
   "metadata": {},
   "outputs": [],
   "source": [
    "import pandas as pd\n",
    "import numpy as np\n",
    "import matplotlib.pyplot as plt\n",
    "from sklearn.preprocessing import LabelEncoder\n",
    "from sklearn.linear_model import LogisticRegression\n",
    "\n",
    "data = pd.read_csv(\"train.csv\")\n",
    "\n",
    "#data.sample(5)\n",
    "#data.info()"
   ]
  },
  {
   "cell_type": "code",
   "execution_count": 65,
   "metadata": {},
   "outputs": [
    {
     "name": "stderr",
     "output_type": "stream",
     "text": [
      "C:\\Users\\kevin\\Anaconda3\\lib\\site-packages\\ipykernel_launcher.py:3: SettingWithCopyWarning: \n",
      "A value is trying to be set on a copy of a slice from a DataFrame\n",
      "\n",
      "See the caveats in the documentation: http://pandas.pydata.org/pandas-docs/stable/indexing.html#indexing-view-versus-copy\n",
      "  This is separate from the ipykernel package so we can avoid doing imports until\n"
     ]
    }
   ],
   "source": [
    "reg_data = data[[\"Survived\",\"Pclass\",\"Sex\",\"Age\",\"Parch\",\"Ticket\",\"Fare\",\"Embarked\"]]\n",
    "\n",
    "reg_data.dropna(axis=0, how ='any', thresh=None, subset=None, inplace=True)\n",
    "\n",
    "reg_data = reg_data.replace(to_replace = \"male\", value =\"1.0\")\n",
    "reg_data = reg_data.replace(to_replace = \"female\", value =\"2.0\")\n",
    "#reg_data.head(5)"
   ]
  },
  {
   "cell_type": "code",
   "execution_count": 66,
   "metadata": {},
   "outputs": [],
   "source": [
    "survived = np.array(reg_data[\"Survived\"][:],dtype=float)\n",
    "pClass = np.array(reg_data[\"Pclass\"][:],dtype=float)\n",
    "sex = np.array(reg_data[\"Sex\"][:],dtype=float)\n",
    "age = np.array(reg_data[\"Age\"][:],dtype=float)\n",
    "parch = np.array(reg_data[\"Parch\"][:],dtype=float)\n",
    "ticket = np.array(reg_data[\"Ticket\"][:])\n",
    "fare = np.array(reg_data[\"Fare\"][:],dtype=float)\n",
    "embarked = np.array(reg_data[\"Embarked\"][:])\n",
    "\n",
    "label_encoder = LabelEncoder()\n",
    "#sex = label_encoder.fit_transform(sex)\n",
    "ticket = label_encoder.fit_transform(ticket)\n",
    "embarked = label_encoder.fit_transform(embarked)\n",
    "\n",
    "x = np.asarray([pClass,sex,age,parch,ticket,fare,embarked]).transpose()\n",
    "    \n",
    "#print(x.shape)\n",
    "\n",
    "y = np.ravel(np.asarray([survived]).transpose())\n",
    "#print(y.shape)"
   ]
  },
  {
   "cell_type": "code",
   "execution_count": 67,
   "metadata": {},
   "outputs": [
    {
     "name": "stderr",
     "output_type": "stream",
     "text": [
      "C:\\Users\\kevin\\Anaconda3\\lib\\site-packages\\sklearn\\linear_model\\logistic.py:432: FutureWarning: Default solver will be changed to 'lbfgs' in 0.22. Specify a solver to silence this warning.\n",
      "  FutureWarning)\n"
     ]
    },
    {
     "data": {
      "text/plain": [
       "LogisticRegression(C=1.0, class_weight=None, dual=False, fit_intercept=True,\n",
       "                   intercept_scaling=1, l1_ratio=None, max_iter=100,\n",
       "                   multi_class='warn', n_jobs=None, penalty='l2',\n",
       "                   random_state=None, solver='warn', tol=0.0001, verbose=0,\n",
       "                   warm_start=False)"
      ]
     },
     "execution_count": 67,
     "metadata": {},
     "output_type": "execute_result"
    }
   ],
   "source": [
    "clf = LogisticRegression()\n",
    "clf.fit(x,y)\n",
    "\n",
    "#reg = LinearRegression().fit(x, y)\n",
    "#reg.score(x, y)\n",
    "\n",
    "#random_forest = RandomForestClassifier(n_estimators=100)\n",
    "#random_forest.fit(x, y)\n",
    "#Y_prediction = random_forest.predict(x)\n",
    "\n",
    "#print(random_forest.feature_importances_)"
   ]
  },
  {
   "cell_type": "code",
   "execution_count": 68,
   "metadata": {},
   "outputs": [],
   "source": [
    "betas = clf.coef_  #random_forest.feature_importances_"
   ]
  },
  {
   "cell_type": "code",
   "execution_count": 69,
   "metadata": {},
   "outputs": [],
   "source": [
    "test_data = pd.read_csv(\"test.csv\")\n",
    "test_data = test_data[[\"Pclass\",\"Sex\",\"Age\",\"Parch\",\"Ticket\",\"Fare\",\"Embarked\"]]\n",
    "test_data.dropna(axis=0, how ='any', thresh=None, subset=None, inplace=True)\n",
    "test_data = test_data.replace(to_replace = \"male\", value =\"1.0\")\n",
    "test_data = test_data.replace(to_replace = \"female\", value =\"2.0\")"
   ]
  },
  {
   "cell_type": "code",
   "execution_count": 70,
   "metadata": {},
   "outputs": [
    {
     "data": {
      "text/plain": [
       "(331, 7)"
      ]
     },
     "execution_count": 70,
     "metadata": {},
     "output_type": "execute_result"
    }
   ],
   "source": [
    "test_pClass = np.array(test_data[\"Pclass\"][:],dtype=float)\n",
    "test_sex = np.array(test_data[\"Sex\"][:],dtype=float)\n",
    "test_age = np.array(test_data[\"Age\"][:],dtype=float)\n",
    "test_parch = np.array(test_data[\"Parch\"][:],dtype=float)\n",
    "test_ticket = np.array(test_data[\"Ticket\"][:])\n",
    "test_fare = np.array(test_data[\"Fare\"][:],dtype=float)\n",
    "test_embarked = np.array(test_data[\"Embarked\"][:])\n",
    "\n",
    "\n",
    "label_encoder = LabelEncoder()\n",
    "#test_sex = label_encoder.fit_transform(test_sex)\n",
    "test_ticket = label_encoder.fit_transform(test_ticket)\n",
    "test_embarked = label_encoder.fit_transform(test_embarked)\n",
    "\n",
    "test_x = np.asarray([test_pClass,test_sex,test_age,test_parch,test_ticket,test_fare,test_embarked]).transpose()\n",
    "\n",
    "test_x.shape"
   ]
  },
  {
   "cell_type": "code",
   "execution_count": 71,
   "metadata": {},
   "outputs": [],
   "source": [
    "dot_prod = np.dot(test_x,betas.transpose())"
   ]
  },
  {
   "cell_type": "code",
   "execution_count": 72,
   "metadata": {},
   "outputs": [],
   "source": [
    "fate = 1/(1+np.exp(-dot_prod))"
   ]
  },
  {
   "cell_type": "code",
   "execution_count": 73,
   "metadata": {},
   "outputs": [],
   "source": [
    "dead = 0\n",
    "alive = 0\n",
    "for i in range(0,len(fate)):\n",
    "    if (fate[i]>= 0.5):\n",
    "        alive = alive+1\n",
    "    else:\n",
    "        dead = dead+1"
   ]
  },
  {
   "cell_type": "code",
   "execution_count": 74,
   "metadata": {},
   "outputs": [
    {
     "name": "stdout",
     "output_type": "stream",
     "text": [
      "Total number of people who survived: 132\n",
      "Total number of people who lost their lives: 199\n"
     ]
    }
   ],
   "source": [
    "print(\"Total number of people who survived:\", alive)\n",
    "print(\"Total number of people who lost their lives:\", dead)"
   ]
  },
  {
   "cell_type": "code",
   "execution_count": null,
   "metadata": {},
   "outputs": [],
   "source": []
  }
 ],
 "metadata": {
  "kernelspec": {
   "display_name": "Python 3",
   "language": "python",
   "name": "python3"
  },
  "language_info": {
   "codemirror_mode": {
    "name": "ipython",
    "version": 3
   },
   "file_extension": ".py",
   "mimetype": "text/x-python",
   "name": "python",
   "nbconvert_exporter": "python",
   "pygments_lexer": "ipython3",
   "version": "3.7.3"
  }
 },
 "nbformat": 4,
 "nbformat_minor": 2
}
