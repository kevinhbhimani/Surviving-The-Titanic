{
 "cells": [
  {
   "cell_type": "markdown",
   "metadata": {},
   "source": [
    "# <center> Surviving The Titanic\n",
    "## <center> Kevin H. Bhimani and Trevor W. Stephens"
   ]
  },
  {
   "cell_type": "markdown",
   "metadata": {},
   "source": [
    "This is a machine learning algorithm to predict the survival of passengers on the Titanic based on a number of factors collected from a Kaggle dataset (https://www.kaggle.com/c/titanic/data). In this project, we used both logistic regression and gaussian naive to develop our machine learning algorithm. "
   ]
  },
  {
   "cell_type": "code",
   "execution_count": 114,
   "metadata": {},
   "outputs": [],
   "source": [
    "import pandas as pd\n",
    "import numpy as np\n",
    "import matplotlib.pyplot as plt\n",
    "from sklearn.preprocessing import LabelEncoder\n",
    "from sklearn.linear_model import LogisticRegression\n",
    "from sklearn import svm\n",
    "from sklearn.tree import DecisionTreeClassifier\n",
    "from sklearn.naive_bayes import GaussianNB\n",
    "\n",
    "\n",
    "data = pd.read_csv(\"train.csv\")\n",
    "\n",
    "#data.sample(5)\n",
    "#data.info()"
   ]
  },
  {
   "cell_type": "code",
   "execution_count": 115,
   "metadata": {},
   "outputs": [
    {
     "name": "stderr",
     "output_type": "stream",
     "text": [
      "//anaconda3/lib/python3.7/site-packages/ipykernel_launcher.py:3: SettingWithCopyWarning: \n",
      "A value is trying to be set on a copy of a slice from a DataFrame\n",
      "\n",
      "See the caveats in the documentation: http://pandas.pydata.org/pandas-docs/stable/indexing.html#indexing-view-versus-copy\n",
      "  This is separate from the ipykernel package so we can avoid doing imports until\n"
     ]
    },
    {
     "data": {
      "text/html": [
       "<div>\n",
       "<style scoped>\n",
       "    .dataframe tbody tr th:only-of-type {\n",
       "        vertical-align: middle;\n",
       "    }\n",
       "\n",
       "    .dataframe tbody tr th {\n",
       "        vertical-align: top;\n",
       "    }\n",
       "\n",
       "    .dataframe thead th {\n",
       "        text-align: right;\n",
       "    }\n",
       "</style>\n",
       "<table border=\"1\" class=\"dataframe\">\n",
       "  <thead>\n",
       "    <tr style=\"text-align: right;\">\n",
       "      <th></th>\n",
       "      <th>Survived</th>\n",
       "      <th>Pclass</th>\n",
       "      <th>Sex</th>\n",
       "      <th>Age</th>\n",
       "      <th>Parch</th>\n",
       "      <th>Ticket</th>\n",
       "      <th>Fare</th>\n",
       "      <th>Embarked</th>\n",
       "    </tr>\n",
       "  </thead>\n",
       "  <tbody>\n",
       "    <tr>\n",
       "      <th>0</th>\n",
       "      <td>0</td>\n",
       "      <td>3</td>\n",
       "      <td>1.0</td>\n",
       "      <td>22.0</td>\n",
       "      <td>0</td>\n",
       "      <td>A/5 21171</td>\n",
       "      <td>7.2500</td>\n",
       "      <td>S</td>\n",
       "    </tr>\n",
       "    <tr>\n",
       "      <th>1</th>\n",
       "      <td>1</td>\n",
       "      <td>1</td>\n",
       "      <td>2.0</td>\n",
       "      <td>38.0</td>\n",
       "      <td>0</td>\n",
       "      <td>PC 17599</td>\n",
       "      <td>71.2833</td>\n",
       "      <td>C</td>\n",
       "    </tr>\n",
       "    <tr>\n",
       "      <th>2</th>\n",
       "      <td>1</td>\n",
       "      <td>3</td>\n",
       "      <td>2.0</td>\n",
       "      <td>26.0</td>\n",
       "      <td>0</td>\n",
       "      <td>STON/O2. 3101282</td>\n",
       "      <td>7.9250</td>\n",
       "      <td>S</td>\n",
       "    </tr>\n",
       "    <tr>\n",
       "      <th>3</th>\n",
       "      <td>1</td>\n",
       "      <td>1</td>\n",
       "      <td>2.0</td>\n",
       "      <td>35.0</td>\n",
       "      <td>0</td>\n",
       "      <td>113803</td>\n",
       "      <td>53.1000</td>\n",
       "      <td>S</td>\n",
       "    </tr>\n",
       "    <tr>\n",
       "      <th>4</th>\n",
       "      <td>0</td>\n",
       "      <td>3</td>\n",
       "      <td>1.0</td>\n",
       "      <td>35.0</td>\n",
       "      <td>0</td>\n",
       "      <td>373450</td>\n",
       "      <td>8.0500</td>\n",
       "      <td>S</td>\n",
       "    </tr>\n",
       "  </tbody>\n",
       "</table>\n",
       "</div>"
      ],
      "text/plain": [
       "   Survived  Pclass  Sex   Age  Parch            Ticket     Fare Embarked\n",
       "0         0       3  1.0  22.0      0         A/5 21171   7.2500        S\n",
       "1         1       1  2.0  38.0      0          PC 17599  71.2833        C\n",
       "2         1       3  2.0  26.0      0  STON/O2. 3101282   7.9250        S\n",
       "3         1       1  2.0  35.0      0            113803  53.1000        S\n",
       "4         0       3  1.0  35.0      0            373450   8.0500        S"
      ]
     },
     "execution_count": 115,
     "metadata": {},
     "output_type": "execute_result"
    }
   ],
   "source": [
    "reg_data = data[[\"Survived\",\"Pclass\",\"Sex\",\"Age\",\"Parch\",\"Ticket\",\"Fare\",\"Embarked\"]]\n",
    "\n",
    "reg_data.dropna(axis=0, how ='any', thresh=None, subset=None, inplace=True)\n",
    "\n",
    "reg_data = reg_data.replace(to_replace = \"male\", value =\"1.0\")\n",
    "reg_data = reg_data.replace(to_replace = \"female\", value =\"2.0\")\n",
    "reg_data.head(5)"
   ]
  },
  {
   "cell_type": "markdown",
   "metadata": {},
   "source": [
    "In this model we use seven predictors to predict if a passegner survived.\n",
    "  * Pclass - The class of the ticket purchased by the passenger. 1 = 1st class, 2 = 2nd class, 3 = 3rd class\n",
    "  * Sex - The sex of the passenger. 1.0 = male, 2.0 = female\n",
    "  * Age - The sex of the passenger. 1.0 = male, 2.0 = female\n",
    "  * Parch - The number of parents and children that a passenger had on the Titanic with them.\n",
    "  * Ticket - The ticket number on the ticket that was sold to the passenger.\n",
    "  * Fare - The price that the passenger bought their ticket for.\n",
    "  * Embarked - The port at which the passenger embarked. C = Cherbourg, Q = Queenstown, S = Southampton\n",
    "\n",
    "And our responce variable is Survived, which is a 1 if the passenger survived the trip and a 0 if the passenger did not survive the trip."
   ]
  },
  {
   "cell_type": "code",
   "execution_count": 116,
   "metadata": {},
   "outputs": [],
   "source": [
    "survived = np.array(reg_data[\"Survived\"][:],dtype=float)\n",
    "pClass = np.array(reg_data[\"Pclass\"][:],dtype=float)\n",
    "sex = np.array(reg_data[\"Sex\"][:],dtype=float)\n",
    "age = np.array(reg_data[\"Age\"][:],dtype=float)\n",
    "parch = np.array(reg_data[\"Parch\"][:],dtype=float)\n",
    "ticket = np.array(reg_data[\"Ticket\"][:])\n",
    "fare = np.array(reg_data[\"Fare\"][:],dtype=float)\n",
    "embarked = np.array(reg_data[\"Embarked\"][:])\n",
    "\n",
    "label_encoder = LabelEncoder()\n",
    "#sex = label_encoder.fit_transform(sex)\n",
    "ticket = label_encoder.fit_transform(ticket)\n",
    "embarked = label_encoder.fit_transform(embarked)\n",
    "\n",
    "x = np.asarray([pClass,sex,age,parch,ticket,fare,embarked]).transpose()\n",
    "    \n",
    "#print(x.shape)\n",
    "\n",
    "y = np.ravel(np.asarray([survived]).transpose())\n",
    "#print(y.shape)"
   ]
  },
  {
   "cell_type": "code",
   "execution_count": 117,
   "metadata": {},
   "outputs": [
    {
     "name": "stdout",
     "output_type": "stream",
     "text": [
      "[[-1.10760875e+00  2.45525846e+00 -3.55165298e-02 -1.46166585e-01\n",
      "  -5.38030318e-04  1.34186718e-03 -2.04441032e-01]]\n",
      "{'priors': None, 'var_smoothing': 1e-09}\n"
     ]
    },
    {
     "name": "stderr",
     "output_type": "stream",
     "text": [
      "//anaconda3/lib/python3.7/site-packages/sklearn/linear_model/logistic.py:432: FutureWarning: Default solver will be changed to 'lbfgs' in 0.22. Specify a solver to silence this warning.\n",
      "  FutureWarning)\n"
     ]
    }
   ],
   "source": [
    "clf = LogisticRegression()\n",
    "clf.fit(x,y)\n",
    "betas = clf.coef_\n",
    "print(betas)\n",
    "\n",
    "gaussian = GaussianNB()\n",
    "gaussian.fit(x, y)\n",
    "#beta1 = decision_tree.class_weight()\n",
    "print(gaussian.get_params())\n",
    "\n",
    "\n",
    "#random_forest = RandomForestClassifier(n_estimators=100)\n",
    "#random_forest.fit(x, y)\n",
    "#Y_prediction = random_forest.predict(x)\n",
    "\n",
    "#print(random_forest.feature_importances_)"
   ]
  },
  {
   "cell_type": "code",
   "execution_count": 118,
   "metadata": {},
   "outputs": [],
   "source": [
    "test_data = pd.read_csv(\"test.csv\")\n",
    "test_data = test_data[[\"Pclass\",\"Sex\",\"Age\",\"Parch\",\"Ticket\",\"Fare\",\"Embarked\",\"Survived\"]]\n",
    "test_data.dropna(axis=0, how ='any', thresh=None, subset=None, inplace=True)\n",
    "test_data = test_data.replace(to_replace = \"male\", value =\"1.0\")\n",
    "test_data = test_data.replace(to_replace = \"female\", value =\"2.0\")\n",
    "result_column = test_data[[\"Survived\"]]\n",
    "test_data = test_data[[\"Pclass\",\"Sex\",\"Age\",\"Parch\",\"Ticket\",\"Fare\",\"Embarked\"]]"
   ]
  },
  {
   "cell_type": "code",
   "execution_count": 119,
   "metadata": {},
   "outputs": [
    {
     "data": {
      "text/plain": [
       "(331, 7)"
      ]
     },
     "execution_count": 119,
     "metadata": {},
     "output_type": "execute_result"
    }
   ],
   "source": [
    "test_pClass = np.array(test_data[\"Pclass\"][:],dtype=float)\n",
    "test_sex = np.array(test_data[\"Sex\"][:],dtype=float)\n",
    "test_age = np.array(test_data[\"Age\"][:],dtype=float)\n",
    "test_parch = np.array(test_data[\"Parch\"][:],dtype=float)\n",
    "test_ticket = np.array(test_data[\"Ticket\"][:])\n",
    "test_fare = np.array(test_data[\"Fare\"][:],dtype=float)\n",
    "test_embarked = np.array(test_data[\"Embarked\"][:])\n",
    "\n",
    "\n",
    "label_encoder = LabelEncoder()\n",
    "#test_sex = label_encoder.fit_transform(test_sex)\n",
    "test_ticket = label_encoder.fit_transform(test_ticket)\n",
    "test_embarked = label_encoder.fit_transform(test_embarked)\n",
    "\n",
    "test_x = np.asarray([test_pClass,test_sex,test_age,test_parch,test_ticket,test_fare,test_embarked]).transpose()\n",
    "\n",
    "test_x.shape"
   ]
  },
  {
   "cell_type": "code",
   "execution_count": 120,
   "metadata": {},
   "outputs": [],
   "source": [
    "gaussianFate = gaussian.predict(test_x)\n",
    "dot_prod = np.dot(test_x,betas.transpose())"
   ]
  },
  {
   "cell_type": "code",
   "execution_count": 121,
   "metadata": {},
   "outputs": [],
   "source": [
    "logFate = 1/(1+np.exp(-dot_prod))"
   ]
  },
  {
   "cell_type": "code",
   "execution_count": 122,
   "metadata": {},
   "outputs": [],
   "source": [
    "logisticResults = []\n",
    "dead = 0\n",
    "alive = 0\n",
    "for i in range(0,len(logFate)):\n",
    "    if (logFate[i]>= 0.5):\n",
    "        alive = alive+1\n",
    "        logisticResults.append(1)\n",
    "    else:\n",
    "        dead = dead+1\n",
    "        logisticResults.append(0)"
   ]
  },
  {
   "cell_type": "code",
   "execution_count": 123,
   "metadata": {},
   "outputs": [],
   "source": [
    "gaussianResults = []\n",
    "dead2 = 0\n",
    "alive2 = 0\n",
    "for i in range(0,len(gaussianFate)):\n",
    "    if (gaussianFate[i]>= 1):\n",
    "        alive2 = alive2+1\n",
    "        gaussianResults.append(1)\n",
    "    else:\n",
    "        dead2 = dead2+1\n",
    "        gaussianResults.append(0)"
   ]
  },
  {
   "cell_type": "code",
   "execution_count": 124,
   "metadata": {},
   "outputs": [],
   "source": [
    "test_data_results = pd.read_csv(\"gender_submission.csv\")\n",
    "result_data = result_column[\"Survived\"].tolist()\n",
    "\n",
    "actuallyDead = 0\n",
    "actuallyAlive = 0\n",
    "for i in range(0,len(result_data)):\n",
    "    if (result_data[i]== 1):\n",
    "        actuallyAlive = actuallyAlive+1\n",
    "    else:\n",
    "        actuallyDead = actuallyDead+1\n",
    "        "
   ]
  },
  {
   "cell_type": "code",
   "execution_count": 125,
   "metadata": {},
   "outputs": [
    {
     "name": "stdout",
     "output_type": "stream",
     "text": [
      "Total number of people who survived from logistic regression model: 132\n",
      "Total number of people who lost their lives from logistic regression model: 199\n",
      "Total number of people who survived from gaussian model: 145\n",
      "Total number of people who lost their lives from gaussian model: 186\n",
      "Total number of people who actually survived: 127\n",
      "Total number of people who actually lost their: 204\n"
     ]
    }
   ],
   "source": [
    "print(\"Total number of people who survived from logistic regression model:\", alive)\n",
    "print(\"Total number of people who lost their lives from logistic regression model:\", dead)\n",
    "print(\"Total number of people who survived from gaussian model:\", alive2)\n",
    "print(\"Total number of people who lost their lives from gaussian model:\", dead2)\n",
    "print(\"Total number of people who actually survived:\", actuallyAlive)\n",
    "print(\"Total number of people who actually lost their:\", actuallyDead)"
   ]
  },
  {
   "cell_type": "code",
   "execution_count": 126,
   "metadata": {},
   "outputs": [],
   "source": [
    "# Also need to find how many people actually dies and survived\n",
    "# And need to find out which people they got right and which they got wrong\n",
    "# Total Number 331"
   ]
  },
  {
   "cell_type": "code",
   "execution_count": 127,
   "metadata": {},
   "outputs": [],
   "source": [
    "logisticCorrect = []\n",
    "gaussianCorrect = []\n",
    "for i in range(0,len(result_data)):\n",
    "    if (result_data[i] == gaussianResults[i]):\n",
    "        gaussianCorrect.append(1)\n",
    "    else:\n",
    "        gaussianCorrect.append(0)\n",
    "    if (result_data[i] == logisticResults[i]):\n",
    "        logisticCorrect.append(1)\n",
    "    else:\n",
    "        logisticCorrect.append(0)"
   ]
  },
  {
   "cell_type": "code",
   "execution_count": 178,
   "metadata": {},
   "outputs": [
    {
     "name": "stdout",
     "output_type": "stream",
     "text": [
      "Total number of people that the logistic model counted correctly: 308\n",
      "Percent of people that the logistic model counted correctly: 0.9305135951661632\n",
      "Total number of people that the gaussian model counted correctly: 281\n",
      "Percent of people that the gaussian model counted correctly: 0.8489425981873112\n",
      "Total number of people that the models were able to make predictions for: 331\n"
     ]
    }
   ],
   "source": [
    "print(\"Total number of people that the logistic model counted correctly:\", logisticCorrect.count(1))\n",
    "print(\"Percent of people that the logistic model counted correctly:\", logisticCorrect.count(1) / len(result_data))\n",
    "print(\"Total number of people that the gaussian model counted correctly:\", gaussianCorrect.count(1))\n",
    "print(\"Percent of people that the gaussian model counted correctly:\", gaussianCorrect.count(1) / len(result_data))\n",
    "print(\"Total number of people that the models were able to make predictions for:\", len(result_data))"
   ]
  },
  {
   "cell_type": "code",
   "execution_count": 173,
   "metadata": {},
   "outputs": [
    {
     "data": {
      "image/png": "[encoded data removed]",
      "text/plain": [
       "<Figure size 432x288 with 1 Axes>"
      ]
     },
     "metadata": {
      "needs_background": "light"
     },
     "output_type": "display_data"
    }
   ],
   "source": [
    "plt.scatter(logFate, gaussianFate, label= \"Chance of Survival\", color= \"green\", marker= \".\", s=10) \n",
    "plt.xlabel('Chance of Survival from Logistic Model') \n",
    "plt.ylabel('Chance of Survival from Gaussian Model') \n",
    "plt.title('Chance of Survival') \n",
    "plt.legend() \n",
    "plt.show() "
   ]
  },
  {
   "cell_type": "code",
   "execution_count": 174,
   "metadata": {},
   "outputs": [
    {
     "data": {
      "image/png": "[encoded data removed]",
      "text/plain": [
       "<Figure size 432x288 with 1 Axes>"
      ]
     },
     "metadata": {
      "needs_background": "light"
     },
     "output_type": "display_data"
    }
   ],
   "source": [
    "plt.scatter(logFate, result_data, label= \"Chance of Survival\", color= \"green\", marker= \".\", s=10) \n",
    "plt.xlabel('Chance of Survival from Logistic Model') \n",
    "plt.ylabel('Actual Survival Results') \n",
    "plt.title('Logistic Results') \n",
    "plt.legend() \n",
    "plt.show() "
   ]
  },
  {
   "cell_type": "code",
   "execution_count": 175,
   "metadata": {},
   "outputs": [],
   "source": [
    "logisticBarGraph = [0, 0, 0, 0]\n",
    "gaussianBarGraph = [0, 0, 0, 0]\n",
    "for i in range(0,len(result_data)):\n",
    "    if (result_data[i] == 1 and logisticResults[i] == 1):\n",
    "        logisticBarGraph[0]+=1\n",
    "    elif (result_data[i] == 0 and logisticResults[i] == 0):\n",
    "        logisticBarGraph[1]+=1\n",
    "    elif (result_data[i] == 0 and logisticResults[i] == 1):\n",
    "        logisticBarGraph[2]+=1\n",
    "    elif (result_data[i] == 1 and logisticResults[i] == 0):\n",
    "        logisticBarGraph[3]+=1\n",
    "for i in range(0,len(result_data)):\n",
    "    if (result_data[i] == 1 and gaussianResults[i] == 1):\n",
    "        gaussianBarGraph[0]+=1\n",
    "    elif (result_data[i] == 0 and gaussianResults[i] == 0):\n",
    "        gaussianBarGraph[1]+=1\n",
    "    elif (result_data[i] == 0 and gaussianResults[i] == 1):\n",
    "        gaussianBarGraph[2]+=1\n",
    "    elif (result_data[i] == 1 and gaussianResults[i] == 0):\n",
    "        gaussianBarGraph[3]+=1"
   ]
  },
  {
   "cell_type": "code",
   "execution_count": 176,
   "metadata": {},
   "outputs": [
    {
     "data": {
      "image/png": "[encoded data removed]",
      "text/plain": [
       "<Figure size 432x288 with 1 Axes>"
      ]
     },
     "metadata": {
      "needs_background": "light"
     },
     "output_type": "display_data"
    }
   ],
   "source": [
    "graph = [1, 3, 5, 7]\n",
    "resultLabel = ['Correct Positive', 'Correct Negative', 'False Positive', 'False Negative']\n",
    "plt.bar(graph, logisticBarGraph, tick_label = resultLabel, width = 1, color = ['black']) \n",
    "plt.ylabel('# of people') \n",
    "plt.title('Logistic Model Results') \n",
    "plt.show() "
   ]
  },
  {
   "cell_type": "code",
   "execution_count": 177,
   "metadata": {},
   "outputs": [
    {
     "data": {
      "image/png": "[encoded data removed]",
      "text/plain": [
       "<Figure size 432x288 with 1 Axes>"
      ]
     },
     "metadata": {
      "needs_background": "light"
     },
     "output_type": "display_data"
    }
   ],
   "source": [
    "graph = [1, 3, 5, 7]\n",
    "resultLabel = ['Correct Positive', 'Correct Negative', 'False Positive', 'False Negative']\n",
    "plt.bar(graph, gaussianBarGraph, tick_label = resultLabel, width = 1, color = ['black']) \n",
    "plt.ylabel('# of people') \n",
    "plt.title('Gaussian Model Results') \n",
    "plt.show() "
   ]
  },
  {
   "cell_type": "code",
   "execution_count": null,
   "metadata": {},
   "outputs": [],
   "source": []
  }
 ],
 "metadata": {
  "kernelspec": {
   "display_name": "Python 3",
   "language": "python",
   "name": "python3"
  },
  "language_info": {
   "codemirror_mode": {
    "name": "ipython",
    "version": 3
   },
   "file_extension": ".py",
   "mimetype": "text/x-python",
   "name": "python",
   "nbconvert_exporter": "python",
   "pygments_lexer": "ipython3",
   "version": "3.7.3"
  }
 },
 "nbformat": 4,
 "nbformat_minor": 2
}
